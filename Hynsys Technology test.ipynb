{
 "cells": [
  {
   "cell_type": "code",
   "execution_count": 6,
   "id": "f81dd7e2",
   "metadata": {},
   "outputs": [
    {
     "name": "stdout",
     "output_type": "stream",
     "text": [
      "enter number of rows : 8\n",
      "enter number of columns : 3\n",
      "enter the elements at position (1,1) :7\n",
      "enter the elements at position (1,2) :\n",
      "enter the elements at position (1,3) :3\n",
      "enter the elements at position (2,1) :T\n",
      "enter the elements at position (2,2) :s\n",
      "enter the elements at position (2,3) :i\n",
      "enter the elements at position (3,1) :h\n",
      "enter the elements at position (3,2) :%\n",
      "enter the elements at position (3,3) :x\n",
      "enter the elements at position (4,1) :i\n",
      "enter the elements at position (4,2) :\n",
      "enter the elements at position (4,3) :#\n",
      "enter the elements at position (5,1) :s\n",
      "enter the elements at position (5,2) :M\n",
      "enter the elements at position (5,3) :\n",
      "enter the elements at position (6,1) :$\n",
      "enter the elements at position (6,2) :a\n",
      "enter the elements at position (6,3) :\n",
      "enter the elements at position (7,1) :#\n",
      "enter the elements at position (7,2) :t\n",
      "enter the elements at position (7,3) :%\n",
      "enter the elements at position (8,1) :i\n",
      "enter the elements at position (8,2) :r\n",
      "enter the elements at position (8,3) :!\n",
      "the given is matrix is : \n",
      " [['7' '' '3']\n",
      " ['T' 's' 'i']\n",
      " ['h' '%' 'x']\n",
      " ['i' '' '#']\n",
      " ['s' 'M' '']\n",
      " ['$' 'a' '']\n",
      " ['#' 't' '%']\n",
      " ['i' 'r' '!']]\n",
      "the result of the matrix is :  This  is Matrix   \n"
     ]
    }
   ],
   "source": [
    "import numpy as np\n",
    "n = int(input(\"enter number of rows : \"))\n",
    "m = int(input(\"enter number of columns : \"))\n",
    "matrix = []\n",
    "for a in range(n):\n",
    "    row = []\n",
    "    for b in range(m):\n",
    "        value = input(f\"enter the elements at position ({a+1},{b+1}) :\")\n",
    "        row.append(value)\n",
    "    matrix.append(row)\n",
    "mm= np.array(matrix)\n",
    "print(\"the given is matrix is : \\n\",mm)\n",
    "test=\"\".join(mm.ravel(order='F'))\n",
    "num=['1','2','3','4','5','6','7','8','9','0']\n",
    "sp=['!','@','$','#','%','&','*','^']\n",
    "s=[\" \" if x  in sp else x if x not in num else \"\" for x in test]\n",
    "result = \"\".join(s)\n",
    "print(\"the result of the matrix is : \",result)"
   ]
  },
  {
   "cell_type": "code",
   "execution_count": null,
   "id": "500d84d3",
   "metadata": {},
   "outputs": [],
   "source": []
  }
 ],
 "metadata": {
  "kernelspec": {
   "display_name": "Python 3",
   "language": "python",
   "name": "python3"
  },
  "language_info": {
   "codemirror_mode": {
    "name": "ipython",
    "version": 3
   },
   "file_extension": ".py",
   "mimetype": "text/x-python",
   "name": "python",
   "nbconvert_exporter": "python",
   "pygments_lexer": "ipython3",
   "version": "3.8.8"
  }
 },
 "nbformat": 4,
 "nbformat_minor": 5
}
